{
 "cells": [
  {
   "cell_type": "markdown",
   "metadata": {
    "collapsed": true
   },
   "source": [
    "%config IPCompleter.greedy = True\n",
    "\n",
    "import pymysql\n",
    "conn=pymysql.connect(host=\"localhost\", user=\"uffdata\", passwd=\"uffdata123\", db=\"dwebd152\")\n",
    "uffdata = conn.cursor()"
   ]
  },
  {
   "cell_type": "code",
   "execution_count": null,
   "metadata": {},
   "outputs": [],
   "source": [
    "sqlCurso = 'SELECT * from BI_DMCURSO;'\n",
    "curso = uffdata.execute(sqlCurso)\n",
    "print(\"Number of Curses at UFF: \", curso)"
   ]
  },
  {
   "cell_type": "code",
   "execution_count": 16,
   "metadata": {},
   "outputs": [
    {
     "name": "stdout",
     "output_type": "stream",
     "text": [
      "(81, 'PSICOLOGIA(CAMPOS)', 'CAMPOS DOS GOYTACAZES', 5)\n"
     ]
    }
   ],
   "source": [
    "data = uffdata.fetchone()\n",
    "print(data)"
   ]
  },
  {
   "cell_type": "code",
   "execution_count": 17,
   "metadata": {},
   "outputs": [
    {
     "name": "stdout",
     "output_type": "stream",
     "text": [
      "((67, 'GEOGRAFIA(CAMPOS)', 'CAMPOS DOS GOYTACAZES', 4), (73, 'ENFERMAGEM(RIO DAS OSTRAS)', 'RIO DAS OSTRAS', 5), (1, 'BIBLIOTECONOMIA E DOCUMENTAÇÃO', 'NITERÓI', 4), (2, 'HISTÓRIA', 'NITERÓI', 4), (3, 'GEOGRAFIA', 'NITERÓI', 4), (4, 'CIÊNCIAS ECONÔMICAS', 'NITERÓI', 4), (5, 'CIÊNCIAS SOCIAIS', 'NITERÓI', 4), (6, 'SERVIÇO SOCIAL', 'NITERÓI', 4), (7, 'DIREITO', 'NITERÓI', 5), (9, 'NUTRIÇÃO', 'NITERÓI', 5), (10, 'PEDAGOGIA', 'NITERÓI', 4), (14, 'ARQUIVOLOGIA', 'NITERÓI', 4), (15, 'FARMÁCIA', 'NITERÓI', 5), (16, 'MEDICINA', 'NITERÓI', 6), (17, 'ODONTOLOGIA', 'NITERÓI', 5), (18, 'MEDICINA VETERINÁRIA', 'NITERÓI', 5), (20, 'MATEMÁTICA', 'NITERÓI', 4), (21, 'LETRAS', 'NITERÓI', 4), (22, 'CIÊNCIAS CONTÁBEIS', 'NITERÓI', 4), (23, 'ADMINISTRAÇÃO', 'NITERÓI', 4), (24, 'PSICOLOGIA', 'NITERÓI', 5), (25, 'FÍSICA', 'NITERÓI', 4), (26, 'ARQUITETURA E URBANISMO', 'NITERÓI', 4), (27, 'ENGENHARIA QUÍMICA', 'NITERÓI', 5), (28, 'QUÍMICA', 'NITERÓI', 4), (29, 'QUÍMICA INDUSTRIAL', 'NITERÓI', 4), (30, 'COMUNICAÇÃO SOCIAL', 'NITERÓI', 4), (31, 'CIÊNCIA DA COMPUTAÇÃO', 'NITERÓI', 4), (32, 'PEDAGOGIA (ANGRA DOS REIS)', 'ANGRA DOS REIS', 4), (33, 'PRODUÇÃO CULTURAL', 'NITERÓI', 4), (34, 'ENFERMAGEM', 'NITERÓI', 5), (35, 'MATEMÁTICA -PÁDUA', 'SANTO ANTÔNIO DE PÁDUA', 4), (36, 'SERVIÇO SOCIAL (CAMPOS)', 'CAMPOS DOS GOYTACAZES', 4), (37, 'ENGENHARIA CIVIL', 'NITERÓI', 5), (38, 'ENGENHARIA ELÉTRICA', 'NITERÓI', 5), (39, 'ENGENHARIA METALÚRGICA(VOLTA REDONDA)', 'VOLTA REDONDA', 5), (40, 'ENGENHARIA MECÂNICA', 'NITERÓI', 5), (41, 'ENGENHARIA DE TELECOMUNICAÇÕES', 'NITERÓI', 5), (42, 'ENGENHARIA DE PRODUÇÃO', 'NITERÓI', 5), (43, 'ENGENHARIA AGRÍCOLA E AMBIENTAL', 'NITERÓI', 5), (44, 'CIÊNCIAS BIOLÓGICAS', 'NITERÓI', 4), (45, 'ENGENHARIA DE PRODUÇÃO(V REDONDA)', 'VOLTA REDONDA', 5), (46, 'ENGENHARIA MECÂNICA(V REDONDA)', 'VOLTA REDONDA', 5), (47, 'TURISMO', 'NITERÓI', 4), (48, 'BIOMEDICINA', 'NITERÓI', 4), (49, 'ESTUDOS DE MÍDIA', 'NITERÓI', 4), (50, 'GEOFÍSICA', 'NITERÓI', 4), (51, 'ENGENHARIA DE PETRÓLEO', 'NITERÓI', 5), (52, 'ENGENHARIA DE AGRONEGÓCIOS(VOLTA REDONDA)', 'VOLTA REDONDA', 5), (53, 'ADMINISTRAÇÃO(VOLTA REDONDA)', 'VOLTA REDONDA', 4), (54, 'ESTATÍSTICA', 'NITERÓI', 4), (55, 'EDUCAÇÃO FÍSICA', 'NITERÓI', 5), (56, 'ENG. DE RECURSOS HÍDRICOS E MEIO AMBIENTE', 'NITERÓI', 5), (57, 'CINEMA E AUDIOVISUAL', 'NITERÓI', 4), (58, 'FILOSOFIA', 'NITERÓI', 4), (59, 'RELAÇÕES INTERNACIONAIS', 'NITERÓI', 4), (60, 'CIÊNCIA DA COMPUTAÇÃO(RIO DAS OSTRAS)', 'RIO DAS OSTRAS', 4), (61, 'ODONTOLOGIA(NOVA FRIBURGO)', 'NOVA FRIBURGO', 5), (62, 'PRODUÇÃO CULTURAL(RIO DAS OSTRAS)', 'RIO DAS OSTRAS', 4), (63, 'ENGENHARIA DE PRODUÇÃO(RIO DAS OSTRAS)', 'RIO DAS OSTRAS', 5), (64, 'SERVIÇO SOCIAL(RIO DAS OSTRAS)', 'RIO DAS OSTRAS', 4), (65, 'PEDAGOGIA(PÁDUA)', 'SANTO ANTÔNIO DE PÁDUA', 4), (72, 'EMPREENDEDORISMO E INOVAÇÃO', 'NITERÓI', 4), (70, 'MATEMÁTICA', 'CURSO À DISTÂNCIA', 4), (71, 'CURSO SUP. DE TECN. EM SISTEMAS DE COMPUTAÇÃO', 'CURSO À DISTÂNCIA', 4), (66, 'CIÊNCIAS ECONÔMICAS(CAMPOS)', 'CAMPOS DOS GOYTACAZES', 4), (68, 'CIÊNCIAS SOCIAIS(CAMPOS)', 'CAMPOS DOS GOYTACAZES', 4), (82, 'FÍSICA(PÁDUA)', 'SANTO ANTÔNIO DE PÁDUA', 4), (84, 'DIREITO ( MACAÉ)', 'MACAÉ', 5), (93, 'CIÊNCIAS NATURAIS(PÁDUA)', 'SANTO ANTÔNIO DE PÁDUA', 4), (95, 'CIÊNCIA AMBIENTAL', 'NITERÓI', 4), (85, 'CIÊNCIAS ATUARIAIS', 'NITERÓI', 4), (86, 'ADMINISTRAÇÃO PÚBLICA', 'CURSO À DISTÂNCIA', 4), (87, 'LETRAS', 'CURSO À DISTÂNCIA', 4), (89, 'HISTÓRIA (CAMPOS)', 'CAMPOS DOS GOYTACAZES', 4), (90, 'DIREITO (VOLTA REDONDA)', 'VOLTA REDONDA', 5), (91, 'PSICOLOGIA ( VOLTA REDONDA)', 'VOLTA REDONDA', 5), (105, 'CIÊNCIAS CONTÁBEIS ( MACAÉ)', 'MACAÉ', 4), (108, 'CURSO SUP. DE TECNOLOGIA EM SEGURANÇA PÚBLICA', 'CURSO À DISTÂNCIA', 4), (113, 'ENGENHARIA DE PRODUÇÃO', 'CURSO À DISTÂNCIA', 5), (114, 'LICENCIATURA INTERDISCIPLIN. EM EDUC.NO CAMPO', 'SANTO ANTÔNIO DE PÁDUA', 4), (115, 'ENGENHARIA DE PRODUÇÃO (PETRÓPOLIS)', 'PETRÓPOLIS', None), (69, 'PSICOLOGIA(RIO DAS OSTRAS)', 'RIO DAS OSTRAS', 5), (76, 'FÍSICA(VOLTA REDONDA)', 'VOLTA REDONDA', 4), (77, 'MATEMÁTICA(VOLTA REDONDA)', 'VOLTA REDONDA', 4), (78, 'QUÍMICA(VOLTA REDONDA)', 'VOLTA REDONDA', 4), (79, 'BIOMEDICINA(NOVA FRIBURGO)', 'NOVA FRIBURGO', 4), (80, 'FONOAUDIOLOGIA (NOVA FRIBURGO)', 'NOVA FRIBURGO', 5), (74, 'ADMINISTRAÇÃO PÚBLICA(VOLTA REDONDA)', 'VOLTA REDONDA', 4), (75, 'CIÊNCIAS CONTÁBEIS(VOLTA REDONDA)', 'VOLTA REDONDA', 4), (83, 'SISTEMAS DE INFORMAÇÃO', 'NITERÓI', 4), (92, 'COMPUTAÇÃO (PÁDUA)', 'SANTO ANTÔNIO DE PÁDUA', 4), (96, 'DESENHO INDUSTRIAL', 'NITERÓI', 3), (98, 'SOCIOLOGIA', 'NITERÓI', 4), (100, 'ARTES', 'NITERÓI', 4), (101, 'GEOGRAFIA ( ANGRA DOS REIS)', 'ANGRA DOS REIS', 4), (102, 'SEGURANÇA PÚBLICA', 'NITERÓI', 4), (103, 'POLÍTICAS PÚBLICAS', 'ANGRA DOS REIS', 4), (94, 'CURSO SUPERIOR DE TECNOLOGIA EM HOTELARIA', 'NITERÓI', 4), (99, 'ANTROPOLOGIA', 'NITERÓI', 4), (104, 'ADMINISTRAÇÃO ( MACAÉ)', 'MACAÉ', 4), (107, 'GRADUAÇÃO TECNOLÓGICA EM PROCESSOS GERENCIAIS', 'NITERÓI', 4), (116, 'JORNALISMO', 'NITERÓI', None))\n"
     ]
    }
   ],
   "source": [
    "dataAll = uffdata.fetchall()\n",
    "print(dataAll)"
   ]
  },
  {
   "cell_type": "code",
   "execution_count": null,
   "metadata": {
    "collapsed": true
   },
   "outputs": [],
   "source": [
    ""
   ]
  }
 ],
 "metadata": {
  "kernelspec": {
   "display_name": "Python 3",
   "language": "python",
   "name": "python3"
  },
  "language_info": {
   "codemirror_mode": {
    "name": "ipython",
    "version": 3.0
   },
   "file_extension": ".py",
   "mimetype": "text/x-python",
   "name": "python",
   "nbconvert_exporter": "python",
   "pygments_lexer": "ipython3",
   "version": "3.6.1"
  }
 },
 "nbformat": 4,
 "nbformat_minor": 0
}